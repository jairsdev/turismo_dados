{
 "cells": [
  {
   "cell_type": "markdown",
   "id": "e048ffa2",
   "metadata": {},
   "source": [
    "# Fluxo de turistas internacionais nas regiões Nordeste e Sul durante os meses de inverno e verão no período de 2013 até 2023"
   ]
  },
  {
   "cell_type": "markdown",
   "id": "2e724c0f",
   "metadata": {},
   "source": [
    "## Introdução \n",
    "\n",
    "O turismo é um ativo econômico muito importante para diversos lugares no Brasil e para a própria economia nacional. Para Balaguer e Cantavella-Jordá (2002), expandir o turismo internacional pode promover crescimentos econômicos duradouros. A industria de turismo gera trocas econômicas significativas, estimular investimos, criar trabalhos, e desta forma aumentar a renda da população (Brida, 2014). Compreender os fluxos de turistas internacionais durante as épocas do ano em diferentes regiões é de suma importância para o planejamento adiantado do direcionamento desses investimentos tanto públicos quanto privados na área de turismo. As amostras analisadas foram feitas pelo Ministério do Turismo e representa o fluxo de chegadas de turistas internacionais (incluem turistas estrangeiros e brasileiros que residem no exterior), desagregadas por país de residência permanente, por mês e via de acesso (aérea, terrestre, marítima ou fluvial) no Brasil durante os anos de 2013 até 2023. O objetivo do seguinte trabalho é fazer uma análise exploratória da chegada desses turistas nas regiões Sul e Nordeste, utilizando gráficos, métricas estatísticas e referencias bibliográficas, além desenvolver ideias iniciais acerca do aumento do fluxo de turistas internacionais nessas regiões nos meses de inverno e verão, considerando as estações no Brasil, por meio de ferramentas de estatística inferencial como testes de hipótese, utilizando o método bootstrap. Por fim, será possível chegar a conclusões mais precisas acerca de quais características podem ser mais importantes no aumento ou decrescimento no número de turistas em cada região, fornecendo idéias para projetos futuros."
   ]
  },
  {
   "cell_type": "markdown",
   "id": "8c0c8f2b",
   "metadata": {},
   "source": [
    "## Importação das bibliotecas "
   ]
  },
  {
   "cell_type": "code",
   "execution_count": 74,
   "id": "487a333f",
   "metadata": {},
   "outputs": [],
   "source": [
    "import pandas as pd\n",
    "import matplotlib.pyplot as plt\n",
    "import numpy as np\n",
    "from scipy.stats import shapiro\n",
    "from scipy import stats\n",
    "from sklearn.utils import resample"
   ]
  },
  {
   "cell_type": "markdown",
   "id": "9efe1603",
   "metadata": {},
   "source": [
    "## Carregando as bases de dados do Ministério do Turismo "
   ]
  },
  {
   "cell_type": "markdown",
   "id": "c957237b",
   "metadata": {},
   "source": [
    "Como as bases de dados são disponibilizados separadamente por ano é preciso fazer a junção delas. As váriaveis de código não vão ser utilizadas e tanto o ano de 2023 quanto os anos anteriores a 2016 utilizam uma padronização diferente nos nomes das váriaveis."
   ]
  },
  {
   "cell_type": "code",
   "execution_count": 75,
   "id": "32de48e9",
   "metadata": {},
   "outputs": [],
   "source": [
    "#Foi preferido fazer uma função para junção dos bancos, pois caso seja necessário adicionar mais bancos de outros anos isso\n",
    "#já vai ser feito de forma automática\n",
    "def concatDB(anos):\n",
    "    df = pd.read_csv(\"chegadas_2023.csv\", encoding=\"ANSI\", delimiter=\";\")\n",
    "    df.drop(columns=['cod pais', 'cod continente', 'cod uf', 'cod via', 'cod mes'], inplace=True)\n",
    "    \n",
    "    for ano in anos:\n",
    "        nome_arq = f\"chegadas_{ano}.csv\"\n",
    "        df_concat = pd.read_csv(nome_arq, encoding=\"ANSI\", delimiter=\";\")\n",
    "        df_concat.rename(columns={\"País\": \"Pais\", \"Mês\": \"Mes\", \"ano\": \"Ano\"}, inplace=True)\n",
    "        if ano < 2016:\n",
    "            df_concat.drop(columns=[\"Ordem continente\", \"Ordem país\", \"Ordem UF\", \"Ordem via de acesso\", \"Ordem mês\"], inplace=True)\n",
    "            df_concat.rename(columns={\"Via de acesso\": \"Via\"}, inplace=True)\n",
    "        else:\n",
    "            df_concat.drop(columns=['cod pais', 'cod continente', 'cod uf', 'cod via', 'cod mes'], inplace=True)\n",
    "        \n",
    "        df_concat['Via'] = df_concat['Via'].str.replace(\"Marítima\", \"Marítimo\")\n",
    "        df_concat['Via'] = df_concat['Via'].str.replace(\"Aérea\", \"Aéreo\")\n",
    "        df_concat['Mes'] = df_concat['Mes'].str.capitalize()\n",
    "        df_concat['Mes'] = df_concat['Mes'].str.replace(\"Março\", \"Marco\")\n",
    "        df = pd.concat([df, df_concat])\n",
    "    return df"
   ]
  },
  {
   "cell_type": "code",
   "execution_count": 76,
   "id": "7ea1eaae",
   "metadata": {},
   "outputs": [],
   "source": [
    "anos = [2022, 2021, 2020, 2019, 2018, 2017, 2016, 2015, 2014, 2013]\n",
    "df = concatDB(anos)\n",
    "#O index permanece o mesmo após a junção, por isso é preciso reseta-lo\n",
    "df = df.reset_index(drop=True)\n",
    "df"
   ]
  },
  {
   "cell_type": "markdown",
   "id": "5c1f7587",
   "metadata": {},
   "source": [
    "## Análise da base de dados concatenada"
   ]
  },
  {
   "cell_type": "code",
   "execution_count": 77,
   "id": "bbffcb15",
   "metadata": {
    "scrolled": true
   },
   "outputs": [],
   "source": [
    "df.shape"
   ]
  },
  {
   "cell_type": "code",
   "execution_count": 78,
   "id": "682ece21",
   "metadata": {},
   "outputs": [],
   "source": [
    "df.info()"
   ]
  },
  {
   "cell_type": "markdown",
   "id": "97ac3e09",
   "metadata": {},
   "source": [
    "Verificando se existe valores ausentes"
   ]
  },
  {
   "cell_type": "code",
   "execution_count": 79,
   "id": "444a9b3f",
   "metadata": {},
   "outputs": [],
   "source": [
    "df.isnull().sum()"
   ]
  },
  {
   "cell_type": "code",
   "execution_count": 80,
   "id": "de654e7b",
   "metadata": {},
   "outputs": [],
   "source": [
    "df['Chegadas'] = df['Chegadas'].fillna(0) "
   ]
  },
  {
   "cell_type": "code",
   "execution_count": 81,
   "id": "3c84cb9e",
   "metadata": {},
   "outputs": [],
   "source": [
    "df.isnull().values.any()"
   ]
  },
  {
   "cell_type": "code",
   "execution_count": 82,
   "id": "b2317faa",
   "metadata": {},
   "outputs": [],
   "source": [
    "df['Via'].unique()"
   ]
  },
  {
   "cell_type": "code",
   "execution_count": 83,
   "id": "9752dc2a",
   "metadata": {},
   "outputs": [],
   "source": [
    "df['Continente'].unique()"
   ]
  },
  {
   "cell_type": "code",
   "execution_count": 84,
   "id": "da6ac9d9",
   "metadata": {},
   "outputs": [],
   "source": [
    "df['UF'].unique()"
   ]
  },
  {
   "cell_type": "markdown",
   "id": "d2a5c4e5",
   "metadata": {},
   "source": [
    "Alguns estados não estão incluídos, na região Nordeste, por exemplo, estão faltando 5 estados. Não foi encontrado nada oficial, mas possivelmente foi por conta do tipo de amostragem."
   ]
  },
  {
   "cell_type": "code",
   "execution_count": 85,
   "id": "f546eee9",
   "metadata": {},
   "outputs": [],
   "source": [
    "df['Mes'].unique()"
   ]
  },
  {
   "cell_type": "code",
   "execution_count": 86,
   "id": "c62d32c7",
   "metadata": {
    "scrolled": true
   },
   "outputs": [],
   "source": [
    "#É preciso mudar o tipo das váriaveis \n",
    "df.dtypes"
   ]
  },
  {
   "cell_type": "markdown",
   "id": "12dacefc",
   "metadata": {},
   "source": [
    "Mudando os tipos de váriaveis"
   ]
  },
  {
   "cell_type": "code",
   "execution_count": 87,
   "id": "8661cbd7",
   "metadata": {},
   "outputs": [],
   "source": [
    "df['Continente'] = df['Continente'].astype('category')\n",
    "df['Pais'] = df['Pais'].astype('category')\n",
    "df['Via'] = df['Via'].astype('category')\n",
    "df['Ano'] = df['Ano'].astype('int')\n",
    "df['Mes'] = df['Mes'].astype('category')\n",
    "df['UF'] = df['UF'].astype('string')"
   ]
  },
  {
   "cell_type": "code",
   "execution_count": 88,
   "id": "e02b823e",
   "metadata": {},
   "outputs": [],
   "source": [
    "df.dtypes"
   ]
  },
  {
   "cell_type": "markdown",
   "id": "93f42d56",
   "metadata": {},
   "source": [
    "## Filtrando a base dados para as regiões Sul e Nordeste"
   ]
  },
  {
   "cell_type": "markdown",
   "id": "325ab93f",
   "metadata": {},
   "source": [
    "Relembrando que na região Nordeste os estados de Alagoas, Maranhão, Paraíba, Sergipe e Piauí não estão especificados."
   ]
  },
  {
   "cell_type": "code",
   "execution_count": 89,
   "id": "2efa1900",
   "metadata": {},
   "outputs": [],
   "source": [
    "estados_nordeste = [\"Bahia\", \"Ceará\", \"Pernambuco\", \"Rio Grande do Norte\"]\n",
    "estados_sul = [\"Paraná\", \"Santa Catarina\", \"Rio Grande do Sul\"]"
   ]
  },
  {
   "cell_type": "code",
   "execution_count": 90,
   "id": "5c54be54",
   "metadata": {
    "scrolled": true
   },
   "outputs": [],
   "source": [
    "df_nordeste = df[df['UF'].isin(estados_nordeste)]\n",
    "df_nordeste = df_nordeste.reset_index(drop=True)\n",
    "df_nordeste"
   ]
  },
  {
   "cell_type": "code",
   "execution_count": 91,
   "id": "2e38f268",
   "metadata": {
    "scrolled": true
   },
   "outputs": [],
   "source": [
    "df_sul = df[df['UF'].isin(estados_sul)]\n",
    "df_sul = df_sul.reset_index(drop=True)\n",
    "df_sul"
   ]
  },
  {
   "cell_type": "markdown",
   "id": "23f258e2",
   "metadata": {},
   "source": [
    "## Análise exploratória dos dados na região Nordeste"
   ]
  },
  {
   "cell_type": "markdown",
   "id": "c599d57f",
   "metadata": {},
   "source": [
    "Análise das váriaveis considerando o período de 2013 a 2023"
   ]
  },
  {
   "cell_type": "markdown",
   "id": "6b8f5f46",
   "metadata": {},
   "source": [
    "Importante destacar que algumas teses propostas por essas análises precisariam de testes de inferência para maior embasamento, já que se trata de uma amostragem. "
   ]
  },
  {
   "cell_type": "code",
   "execution_count": 92,
   "id": "ba29ec91",
   "metadata": {},
   "outputs": [],
   "source": [
    "df_nordeste['UF'].value_counts()"
   ]
  },
  {
   "cell_type": "code",
   "execution_count": 93,
   "id": "ab309a82",
   "metadata": {},
   "outputs": [],
   "source": [
    "fluxo_tur = df_nordeste.groupby(\"UF\")['Chegadas'].sum()\n",
    "fluxo_tur.plot(kind = 'bar', figsize=(12,5))\n",
    "plt.title(\"Frequência de pessoas por UF\")  "
   ]
  },
  {
   "cell_type": "markdown",
   "id": "61c4aac3",
   "metadata": {},
   "source": [
    "A frequência de turistas parece ter alguma ligação com a população de cada estado. Utilizando o teste de correlação é obtido o seguinte resultado:"
   ]
  },
  {
   "cell_type": "code",
   "execution_count": 94,
   "id": "c492e834",
   "metadata": {},
   "outputs": [],
   "source": [
    "pop = pd.Series([14.141, 9.2, 9.5, 3.446], index=['Bahia', 'Ceará', 'Pernambuco', \"Rio Grande do Norte\"])\n",
    "df_pop_tur = pd.DataFrame({\"População\": pop, \"Turistas\": fluxo_tur})\n",
    "corr = df_pop_tur.corr()\n",
    "corr.style.background_gradient()"
   ]
  },
  {
   "cell_type": "markdown",
   "id": "510d4528",
   "metadata": {},
   "source": [
    "0.99 indica uma correlação proporcional forte das duas váriaveis, ou seja, a quantidade turistas é diretamente proporcional a população nesses estados. Fazer essa correlação com todos os estados do Brasil presentes na amostra seria interessante em incrementos futuros."
   ]
  },
  {
   "cell_type": "code",
   "execution_count": 95,
   "id": "5fe2f20f",
   "metadata": {
    "scrolled": false
   },
   "outputs": [],
   "source": [
    "df_nordeste.groupby(\"Via\", observed=True)['Chegadas'].sum().plot(kind = 'bar', figsize=(12,5))\n",
    "plt.title(\"Frequência de pessoas por Via\")  "
   ]
  },
  {
   "cell_type": "markdown",
   "id": "0866d2cb",
   "metadata": {},
   "source": [
    "Não existe registros de turistas internacionais utilizando a via fluvial ou terreste, isso deve ao fato de que a região Nordeste não faz divisa com nenhum outro país o que impede a utilização dessas vias. "
   ]
  },
  {
   "cell_type": "code",
   "execution_count": 96,
   "id": "d86c3903",
   "metadata": {},
   "outputs": [],
   "source": [
    "df_nordeste.groupby(\"Ano\", observed=True)['Chegadas'].sum().plot(kind = 'bar', figsize=(12,5))\n",
    "plt.title(\"Frequência de pessoas por Ano\")  "
   ]
  },
  {
   "cell_type": "markdown",
   "id": "01f7ad70",
   "metadata": {},
   "source": [
    "A frequência de turistas internacionais entre os anos de 2020 e 2022 diminuiu drasticamente por conta da pandemia e atualmente teve uma recuperação mais lenta quando comparada com a região Sul. De acordo com ROGERSON (2020, p.6), no momento pós pandemia, o turismo doméstico, caracterizado como viagens mais próximas e locais, levando em conta a proximidade geografica e cultural, acabou se tornando mais preferido. Uma das razões para esse comportamento é a ameaça de doenças, essas ameaças despertam atitudes mais \"coletivistas\" o que se aplica também a área de turismo. Como já observado, a região Nordeste não tem fronteira com outros países da America do Sul, o tornando menos atrativo para esses visitantes domésticos. Essa situação se agrava quando consideramos viagens internacionais em longas distâncias, pois essas viagens correspondem ao perfil da maioria dos turistas europeus. Eles representam uma parte significativa dos turistas internacionais do Nordeste, afetando consideravelmente a quantidade de turistas no período pós pandemia. "
   ]
  },
  {
   "cell_type": "code",
   "execution_count": 97,
   "id": "45280747",
   "metadata": {},
   "outputs": [],
   "source": [
    "df_nordeste.groupby(\"Pais\", observed=True)['Chegadas'].sum().sort_values(ascending=False).head(15).plot(kind = 'bar', figsize=(12,5))\n",
    "plt.title(\"Frequência de pessoas por País\") "
   ]
  },
  {
   "cell_type": "code",
   "execution_count": 98,
   "id": "cc10e2d3",
   "metadata": {},
   "outputs": [],
   "source": [
    "df_nordeste.groupby(\"Continente\", observed=True)['Chegadas'].sum().sort_values(ascending=False).head(15).plot(kind = 'bar', figsize=(12,5))\n",
    "plt.title(\"Frequência de pessoas por Continente\") "
   ]
  },
  {
   "cell_type": "markdown",
   "id": "5c25666a",
   "metadata": {},
   "source": [
    "A maior parte dos turistas da América do Sul vem da Argentina. A quantidade de turistas de outros países desse continente é bem baixo, o que reforça menor atratividade de turistas que a região Nordeste tem com os países vizinhos, principalmente quando comparado com a região Sul,."
   ]
  },
  {
   "cell_type": "code",
   "execution_count": 99,
   "id": "651e75d9",
   "metadata": {},
   "outputs": [],
   "source": [
    "df_nordeste_2023 = df_nordeste[df_nordeste['Ano'] == 2023]\n",
    "ordem_meses = [\n",
    "    \"Janeiro\", \"Fevereiro\", \"Marco\", \"Abril\", \"Maio\", \"Junho\",\n",
    "    \"Julho\", \"Agosto\", \"Setembro\", \"Outubro\", \"Novembro\", \"Dezembro\"\n",
    "]\n",
    "quant_mes = df_nordeste_2023.groupby(\"Mes\", observed=True)['Chegadas'].sum()\n",
    "#Orderna os index da serie com base no vetor ordem_MESES\n",
    "quant_mes.index = pd.CategoricalIndex(quant_mes.index, categories=ordem_meses, ordered=True)\n",
    "quant_mes = quant_mes.sort_index()\n",
    "\n",
    "quant_mes.plot(kind = 'bar', figsize=(12,5))\n",
    "plt.title(\"Frequência de pessoas por Mês em 2023\") "
   ]
  },
  {
   "cell_type": "markdown",
   "id": "dbc39efe",
   "metadata": {},
   "source": [
    "Existe um grande fluxo de turistas no verão e no inverno, porém no verão o fluxo vai diminuindo ao decorrer dos meses e no inverno o processo é inverso. Os europeus que compõem boa parte dos turistas em ambas as estações, como vemos nos gráficos abaixo, tem férias mais longas no inverno do Brasil o que poder ser um dos fatores que explica esse fenômeno. Obviamente, existem outros perfis importantes de turistas, como os Argentinos, que tem comportamentos gerais mais distintos."
   ]
  },
  {
   "cell_type": "code",
   "execution_count": 100,
   "id": "3267b8fc",
   "metadata": {},
   "outputs": [],
   "source": [
    "meses_verao = [\"Dezembro\", \"Janeiro\", \"Fevereiro\"]\n",
    "df_nordeste_2023_ver = df_nordeste_2023[df_nordeste_2023['Mes'].isin(meses_verao)]\n",
    "df_nordeste_2023_ver.groupby(\"Continente\", observed=True)['Chegadas'].sum().sort_values(ascending=False).head(10).plot(kind = \"bar\", figsize=(12,5))\n",
    "plt.title(\"Frequência de pessoas por continente em 2023 nos meses de verão\")"
   ]
  },
  {
   "cell_type": "code",
   "execution_count": 101,
   "id": "52425fd1",
   "metadata": {},
   "outputs": [],
   "source": [
    "meses_inverno = [\"Junho\", \"Julho\", \"Agosto\"]\n",
    "df_nordeste_2023_inv = df_nordeste_2023[df_nordeste_2023['Mes'].isin(meses_inverno)]\n",
    "df_nordeste_2023_inv.groupby(\"Continente\", observed=True)['Chegadas'].sum().sort_values(ascending=False).head(10).plot(kind = \"bar\", figsize=(12,5))\n",
    "plt.title(\"Frequência de pessoas por continente em 2023 nos meses de inverno\")"
   ]
  },
  {
   "cell_type": "code",
   "execution_count": 102,
   "id": "61c49c78",
   "metadata": {},
   "outputs": [],
   "source": [
    "porct_mensal = quant_mes.pct_change() * 100\n",
    "porct_mensal.plot(figsize=(12,5))\n",
    "plt.title(\"Crescimento de turistas na região Nordeste em 2023\")"
   ]
  },
  {
   "cell_type": "code",
   "execution_count": 103,
   "id": "20813a27",
   "metadata": {},
   "outputs": [],
   "source": [
    "porct_mensal.plot(kind=\"bar\", figsize=(12,5))\n",
    "plt.title(\"Crescimento de turistas na região Nordeste em 2023\")"
   ]
  },
  {
   "cell_type": "markdown",
   "id": "971c8faf",
   "metadata": {},
   "source": [
    "O crescimento nos meses de inverno nesse ano parece ser muitor maior comparado com os meses de verão sem considerar Janeiro. A partir da média de crescimento dessas estações considerando o período de 2013 até 2023 será possível obter uma análise mais precisa."
   ]
  },
  {
   "cell_type": "markdown",
   "id": "65dec276",
   "metadata": {},
   "source": [
    "O objetivo agora é criar uma matriz em que cada vetor representa um mês. Desta forma, será possível especificar os crescimentos nos meses de verão e inverno"
   ]
  },
  {
   "cell_type": "code",
   "execution_count": 104,
   "id": "2a2fad64",
   "metadata": {},
   "outputs": [],
   "source": [
    "sum_meses = np.zeros((12, 10))\n",
    "i = 0\n",
    "dezembro = None\n",
    "for ano in anos:\n",
    "    df_nordeste_ano = df_nordeste[df_nordeste['Ano'] == ano]\n",
    "    quant_mes = df_nordeste_ano.groupby(\"Mes\", observed=True)['Chegadas'].sum()\n",
    "    quant_mes.index = pd.CategoricalIndex(quant_mes.index, categories=ordem_meses, ordered=True)\n",
    "    quant_mes = quant_mes.sort_index()\n",
    "    pct_mes = quant_mes.pct_change()\n",
    "    j = 0\n",
    "    for mes in pct_mes:\n",
    "        #Caso seja janeiro é necessário atribuir o crescimento manualmente\n",
    "        if (j == 0):\n",
    "            #Se for o primeiro registro, ou seja, Janeiro de 2013 \n",
    "            if (dezembro is None):\n",
    "                j += 1\n",
    "                continue\n",
    "            crs_jan = ((quant_mes[\"Janeiro\"] - dezembro) / dezembro)\n",
    "            sum_meses[j][i] = crs_jan\n",
    "            j += 1\n",
    "            continue\n",
    "        sum_meses[j][i] = mes\n",
    "        if (j == 11):\n",
    "            dezembro = quant_mes[\"Dezembro\"]\n",
    "        j += 1\n",
    "    i += 1\n",
    "sum_meses"
   ]
  },
  {
   "cell_type": "markdown",
   "id": "e0f71752",
   "metadata": {},
   "source": [
    "Para calcular a média de crescimento, a média geometrica será mais adequada, já que considera as variações percentuais, incluindo períodos de crescimento e decrescimento."
   ]
  },
  {
   "cell_type": "code",
   "execution_count": 105,
   "id": "b4caf4e2",
   "metadata": {},
   "outputs": [],
   "source": [
    "#O número 1 é o fator multiplicativo que serve para evitar que os valores sejam negativos, pois a média geométrica só aceita\n",
    "#números positivos\n",
    "dezembro = 1 + sum_meses[11]\n",
    "janeiro = 1 + sum_meses[0]\n",
    "fevereiro = 1 + sum_meses[1]\n",
    "produto_tot = dezembro.prod() * janeiro.prod() * fevereiro.prod()\n",
    "media_geometrica = produto_tot ** (1 / 30)\n",
    "media_crescimento = (media_geometrica - 1) * 100\n",
    "media_crescimento"
   ]
  },
  {
   "cell_type": "markdown",
   "id": "8e67a613",
   "metadata": {},
   "source": [
    "A média de crescimento de turistas internacionais nos meses de verão na região Nordeste é de aproximadamente -5.75%"
   ]
  },
  {
   "cell_type": "code",
   "execution_count": 106,
   "id": "13214104",
   "metadata": {},
   "outputs": [],
   "source": [
    "junho = 1 + sum_meses[5]\n",
    "julho = 1 + sum_meses[6]\n",
    "agosto = 1 + sum_meses[7]\n",
    "produto_tot = junho.prod() * julho.prod() * agosto.prod()\n",
    "media_geometrica = produto_tot ** (1 / 30)\n",
    "media_crescimento = (media_geometrica - 1) * 100\n",
    "media_crescimento"
   ]
  },
  {
   "cell_type": "markdown",
   "id": "041fcc37",
   "metadata": {},
   "source": [
    "A média de crescimento de turistas internacionais nos meses de inverno na região Nordeste é de aproximadamente 48.64%"
   ]
  },
  {
   "cell_type": "markdown",
   "id": "5311d067",
   "metadata": {},
   "source": [
    "De fato a média de crescimento na estação do verão é muito menor em comparação com o inverno."
   ]
  },
  {
   "cell_type": "markdown",
   "id": "def33e28",
   "metadata": {},
   "source": [
    "Abaixo foi utilizado a abordagem de logaritmos que será útil quando os testes de hipotese forem aplicados"
   ]
  },
  {
   "cell_type": "code",
   "execution_count": 107,
   "id": "c573de2d",
   "metadata": {},
   "outputs": [],
   "source": [
    "#O np.log transforma em logaritimos naturais\n",
    "log_nord_verao = np.concatenate((np.log(dezembro), np.log(janeiro), np.log(fevereiro)))\n",
    "media_aritmetica = np.mean(log_nord_verao)\n",
    "valor_log = np.exp(media_aritmetica)\n",
    "media_geometrica = valor_log - 1\n",
    "media_geometrica * 100"
   ]
  },
  {
   "cell_type": "markdown",
   "id": "cc2fd89c",
   "metadata": {},
   "source": [
    "Portanto, a média aritmética dos dados transformados em log é correspondente ao log da média geometrica dos dados originais"
   ]
  },
  {
   "cell_type": "code",
   "execution_count": 108,
   "id": "07c7583a",
   "metadata": {},
   "outputs": [],
   "source": [
    "#Guardando os dados transformados em log para o teste de hipótese\n",
    "log_nord_inverno = np.concatenate((np.log(junho), np.log(julho), np.log(agosto)))"
   ]
  },
  {
   "cell_type": "markdown",
   "id": "54daf3c6",
   "metadata": {},
   "source": [
    "## Análise exploratória dos dados na região Sul"
   ]
  },
  {
   "cell_type": "code",
   "execution_count": 109,
   "id": "47de3d5c",
   "metadata": {},
   "outputs": [],
   "source": [
    "df_sul['UF'].value_counts()"
   ]
  },
  {
   "cell_type": "code",
   "execution_count": 110,
   "id": "319af173",
   "metadata": {},
   "outputs": [],
   "source": [
    "fluxo_tur = df_sul.groupby(\"UF\")['Chegadas'].sum()\n",
    "fluxo_tur.plot(kind = 'bar', figsize=(12,5))\n",
    "plt.title(\"Frequência de pessoas por UF\")  "
   ]
  },
  {
   "cell_type": "code",
   "execution_count": 111,
   "id": "d1a5da2c",
   "metadata": {},
   "outputs": [],
   "source": [
    "df_sul.groupby(\"Via\", observed=True)['Chegadas'].sum().plot(kind = 'bar', figsize=(12,5))\n",
    "plt.title(\"Frequência de pessoas por Via\")"
   ]
  },
  {
   "cell_type": "markdown",
   "id": "d56b238e",
   "metadata": {},
   "source": [
    "Em comparação com a região Nordeste, a região Sul possui uma variedade maior de vias."
   ]
  },
  {
   "cell_type": "code",
   "execution_count": 112,
   "id": "e22dc2de",
   "metadata": {},
   "outputs": [],
   "source": [
    "df_sul.groupby(\"Ano\", observed=True)['Chegadas'].sum().plot(kind = 'bar', figsize=(12,5))\n",
    "plt.title(\"Frequência de pessoas por Ano\")  "
   ]
  },
  {
   "cell_type": "markdown",
   "id": "e594d6f2",
   "metadata": {},
   "source": [
    "Nota-se que houve uma queda considerável no periodo da pandemia de COVID assim como na região Nordeste, porém a recuperação do\n",
    "número de turistas em 2023 é maior quando comparado com o mesmo ano no Nordeste. O fato da maioria dos turistas internacionais\n",
    "estarem em países vizinhos, como é possível ver nos gráficos abaixo, pode ter uma grande contribuição nesse fenômeno, já que \n",
    "atrela a percepção desses turistas acerca dos estados do Sul com viagens domésticas. "
   ]
  },
  {
   "cell_type": "code",
   "execution_count": 113,
   "id": "1c084211",
   "metadata": {},
   "outputs": [],
   "source": [
    "df_sul.groupby(\"Pais\", observed=True)['Chegadas'].sum().sort_values(ascending=False).head(15).plot(kind = 'bar', figsize=(12,5))\n",
    "plt.title(\"Frequência de pessoas por País\") "
   ]
  },
  {
   "cell_type": "code",
   "execution_count": 114,
   "id": "2f92e122",
   "metadata": {},
   "outputs": [],
   "source": [
    "df_sul.groupby(\"Continente\", observed=True)['Chegadas'].sum().sort_values(ascending=False).head(15).plot(kind = 'bar', figsize=(12,5))\n",
    "plt.title(\"Frequência de pessoas por Continente\") "
   ]
  },
  {
   "cell_type": "code",
   "execution_count": 115,
   "id": "b58a09b9",
   "metadata": {
    "scrolled": false
   },
   "outputs": [],
   "source": [
    "df_sul_2023 = df_sul[df_sul['Ano'] == 2023]\n",
    "ordem_meses = [\n",
    "    \"Janeiro\", \"Fevereiro\", \"Marco\", \"Abril\", \"Maio\", \"Junho\",\n",
    "    \"Julho\", \"Agosto\", \"Setembro\", \"Outubro\", \"Novembro\", \"Dezembro\"\n",
    "]\n",
    "quant_mes = df_sul_2023.groupby(\"Mes\", observed=True)['Chegadas'].sum()\n",
    "#Orderna os index da serie com base no vetor ordem_MESES\n",
    "quant_mes.index = pd.CategoricalIndex(quant_mes.index, categories=ordem_meses, ordered=True)\n",
    "quant_mes = quant_mes.sort_index()\n",
    "\n",
    "quant_mes.plot(kind = 'bar', figsize=(12,5))\n",
    "plt.title(\"Frequência de pessoas por Mês em 2023\") "
   ]
  },
  {
   "cell_type": "markdown",
   "id": "4ddedb4b",
   "metadata": {},
   "source": [
    "Os meses de verão tem um grande fluxo de turistas, diferente dos meses de inverno. Como a maior parte dos turistas são da América do Sul e normalmente as férias mais longas são no verão, isso possívelmente representa alguma relação. "
   ]
  },
  {
   "cell_type": "code",
   "execution_count": 116,
   "id": "a972e05e",
   "metadata": {},
   "outputs": [],
   "source": [
    "df_sul_2023_inv = df_sul_2023[df_sul_2023['Mes'].isin(meses_inverno)]\n",
    "df_sul_2023_inv.groupby(\"Continente\", observed=True)['Chegadas'].sum().sort_values(ascending=False).head(10).plot(kind = \"bar\", figsize=(12,5))\n",
    "plt.title(\"Frequência de pessoas por continente em 2023 nos meses de inverno\")"
   ]
  },
  {
   "cell_type": "code",
   "execution_count": 117,
   "id": "49189bb3",
   "metadata": {},
   "outputs": [],
   "source": [
    "df_sul_2023_ver = df_sul_2023[df_sul_2023['Mes'].isin(meses_verao)]\n",
    "df_sul_2023_ver.groupby(\"Continente\", observed=True)['Chegadas'].sum().sort_values(ascending=False).head(10).plot(kind = \"bar\", figsize=(12,5))\n",
    "plt.title(\"Frequência de pessoas por continente em 2023 nos meses de verão\")"
   ]
  },
  {
   "cell_type": "code",
   "execution_count": 118,
   "id": "6f1f40ad",
   "metadata": {},
   "outputs": [],
   "source": [
    "df_sul_2019 = df_sul[df_sul['Ano'] == 2019]\n",
    "ordem_meses = [\n",
    "    \"Janeiro\", \"Fevereiro\", \"Marco\", \"Abril\", \"Maio\", \"Junho\",\n",
    "    \"Julho\", \"Agosto\", \"Setembro\", \"Outubro\", \"Novembro\", \"Dezembro\"\n",
    "]\n",
    "quant_mes = df_sul_2019.groupby(\"Mes\", observed=True)['Chegadas'].sum()\n",
    "#Orderna os index da serie com base no vetor ordem_MESES\n",
    "quant_mes.index = pd.CategoricalIndex(quant_mes.index, categories=ordem_meses, ordered=True)\n",
    "quant_mes = quant_mes.sort_index()\n",
    "\n",
    "quant_mes.plot(kind = 'bar', figsize=(12,5))\n",
    "plt.title(\"Frequência de pessoas por Mês em 2019\")"
   ]
  },
  {
   "cell_type": "code",
   "execution_count": 119,
   "id": "6065f318",
   "metadata": {},
   "outputs": [],
   "source": [
    "df_sul_2019_inv = df_sul_2019[df_sul_2019['Mes'].isin(meses_inverno)]\n",
    "df_sul_2019_inv.groupby(\"Continente\", observed=True)['Chegadas'].sum().sort_values(ascending=False).head(10).plot(kind = \"bar\", figsize=(12,5))\n",
    "plt.title(\"Frequência de pessoas por continente em 2019 nos meses de inverno\")"
   ]
  },
  {
   "cell_type": "code",
   "execution_count": 120,
   "id": "b2c7c5a3",
   "metadata": {},
   "outputs": [],
   "source": [
    "df_sul_2019_ver = df_sul_2019[df_sul_2019['Mes'].isin(meses_verao)]\n",
    "df_sul_2019_ver.groupby(\"Continente\", observed=True)['Chegadas'].sum().sort_values(ascending=False).head(10).plot(kind = \"bar\", figsize=(12,5))\n",
    "plt.title(\"Frequência de pessoas por continente em 2019 nos meses de verão\")"
   ]
  },
  {
   "cell_type": "markdown",
   "id": "5a015daf",
   "metadata": {},
   "source": [
    "Comparando os anos de 2023 e 2019, observamos que os fluxos de turistas nos meses de inverno é maior ao mesmo tempo que o número de europeus também é maior. Esses fatos reforçam tanto a tese da preferência pelo turismo doméstico pós pandemia tanto quanto a relação do fluxo de turismo com os períodos de férias mais longos."
   ]
  },
  {
   "cell_type": "code",
   "execution_count": 121,
   "id": "78354fa5",
   "metadata": {},
   "outputs": [],
   "source": [
    "porct_mensal = quant_mes.pct_change() * 100\n",
    "porct_mensal.plot(figsize=(12,5))\n",
    "plt.title(\"Crescimento de turistas na região Sul em 2023\")"
   ]
  },
  {
   "cell_type": "code",
   "execution_count": 122,
   "id": "9607bcf5",
   "metadata": {},
   "outputs": [],
   "source": [
    "porct_mensal.plot(kind=\"bar\", figsize=(12,5))\n",
    "plt.title(\"Crescimento de turistas na região Sul em 2023\")"
   ]
  },
  {
   "cell_type": "markdown",
   "id": "5d8d7f02",
   "metadata": {},
   "source": [
    "Diferentemente da região Nordeste o crescimento nos meses de inverno nesse ano parece ser muitor menor comparado com os meses \n",
    "de verão sem considerar Janeiro. "
   ]
  },
  {
   "cell_type": "markdown",
   "id": "fc56b0cb",
   "metadata": {},
   "source": [
    "O mesmo processo feito na análise da região Nordeste será feito para calcular as porcentagens de crescimento:"
   ]
  },
  {
   "cell_type": "code",
   "execution_count": 123,
   "id": "878d35b7",
   "metadata": {},
   "outputs": [],
   "source": [
    "sum_meses = np.zeros((12, 10))\n",
    "i = 0\n",
    "dezembro = None\n",
    "for ano in anos:\n",
    "    df_sul_ano = df_sul[df_sul['Ano'] == ano]\n",
    "    quant_mes = df_sul_ano.groupby(\"Mes\", observed=True)['Chegadas'].sum()\n",
    "    quant_mes.index = pd.CategoricalIndex(quant_mes.index, categories=ordem_meses, ordered=True)\n",
    "    quant_mes = quant_mes.sort_index()\n",
    "    pct_mes = quant_mes.pct_change()\n",
    "    j = 0\n",
    "    for mes in pct_mes:\n",
    "        #Caso seja janeiro é necessário atribuir o crescimento manualmente\n",
    "        if (j == 0):\n",
    "            #Se for o primeiro registro, ou seja, Janeiro de 2013 \n",
    "            if (dezembro is None):\n",
    "                j += 1\n",
    "                continue\n",
    "            crs_jan = ((quant_mes[\"Janeiro\"] - dezembro) / dezembro)\n",
    "            sum_meses[j][i] = crs_jan\n",
    "            j += 1\n",
    "            continue\n",
    "        sum_meses[j][i] = mes\n",
    "        if (j == 11):\n",
    "            dezembro = quant_mes[\"Dezembro\"]\n",
    "        j += 1\n",
    "    i += 1\n",
    "sum_meses"
   ]
  },
  {
   "cell_type": "code",
   "execution_count": 124,
   "id": "a4f92c57",
   "metadata": {},
   "outputs": [],
   "source": [
    "dezembro_sul = 1 + sum_meses[11]\n",
    "janeiro_sul = 1 + sum_meses[0]\n",
    "fevereiro_sul = 1 + sum_meses[1]\n",
    "produto_tot = dezembro_sul.prod() * janeiro_sul.prod() * fevereiro_sul.prod()\n",
    "media_geometrica = produto_tot ** (1 / 30)\n",
    "media_crescimento = (media_geometrica - 1) * 100\n",
    "media_crescimento"
   ]
  },
  {
   "cell_type": "markdown",
   "id": "d42c7857",
   "metadata": {},
   "source": [
    "A média de crescimento de turistas internacionais nos meses de verão na região Nordeste é de aproximadamente 45.26%"
   ]
  },
  {
   "cell_type": "code",
   "execution_count": 125,
   "id": "1a363a76",
   "metadata": {},
   "outputs": [],
   "source": [
    "junho_sul = 1 + sum_meses[5]\n",
    "julho_sul = 1 + sum_meses[6]\n",
    "agosto_sul = 1 + sum_meses[7]\n",
    "produto_tot = junho_sul.prod() * julho_sul.prod() * agosto_sul.prod()\n",
    "media_geometrica = produto_tot ** (1 / 30)\n",
    "media_crescimento = (media_geometrica - 1) * 100\n",
    "media_crescimento"
   ]
  },
  {
   "cell_type": "markdown",
   "id": "8aaa806b",
   "metadata": {},
   "source": [
    "A média de crescimento de turistas internacionais nos meses de inverno na região Nordeste é de aproximadamente 2.98%"
   ]
  },
  {
   "cell_type": "code",
   "execution_count": 126,
   "id": "d6616933",
   "metadata": {},
   "outputs": [],
   "source": [
    "log_sul_inverno = np.concatenate((np.log(junho_sul), np.log(julho_sul), np.log(agosto_sul)))\n",
    "log_sul_verao = np.concatenate((np.log(dezembro_sul), np.log(janeiro_sul), np.log(fevereiro_sul)))"
   ]
  },
  {
   "cell_type": "markdown",
   "id": "3047c553",
   "metadata": {},
   "source": [
    "## Testes de hipótese "
   ]
  },
  {
   "cell_type": "markdown",
   "id": "7cd2f6da",
   "metadata": {},
   "source": [
    "Os testes utilizados serão para a diferença de médias de duas amostras independentes. Ambas as hipóteses utilizaram o método bootstrap."
   ]
  },
  {
   "cell_type": "markdown",
   "id": "356b53fd",
   "metadata": {},
   "source": [
    "### Definição bootstrap"
   ]
  },
  {
   "cell_type": "markdown",
   "id": "fc1d4731",
   "metadata": {},
   "source": [
    "Bootstrap é um metodo feito para estimar a distribuição de um estimador ou teste estatístico  através da reamostragem dos dados. Ele tratam os dados partindo do princípio de que eles vinheram da mesma população, com o proposito de avaliar a distribuição de interesse. Sobre condições normais e regulares, o bootstrap calcula uma aproximação para a distribuição de um estimador ou teste estatístico. O número de reamostragens possíveis com uma amostra de tamanho é $n$ é dado por $n^n$, como a reamostragem é feito com substituição, apenas parte dessas amostras serão únicas, o que é dado por $\\begin{pmatrix}\n",
    "2n - 1\\\\\n",
    "n\n",
    "\\end{pmatrix}$. Desta forma, como $n^n$ é uma quantidade muito grande mesmo para computadores com poder de computação considerável, o método Monte Carlo é utilizado, esse método calcula um estimador para a distribuição bootstrap a partir de parte dessa reamostragem. Por exemplo, caso o objetivo fosse estimar uma função de distribuição acumulada teriamos:\n",
    "\n",
    "$$\\overline F(t) \\implies \\hat F_n(t) \\implies F_n(t)$$\n",
    "\n",
    "$\\overline F(t)$ é o estimador Monte Carlo, $\\hat F_n(t)$ é o estimador bootstrap e $F_n(t)$ a distribuição de interesse. Outro conceito importante é o de convergência uniforme que é o cálculo de quão proximo a função do estimador está da função da distribuição de interesse. Para $\\overline F(t) \\implies \\hat F_n(t)$, $B$ (número de reamostragens) precisar ser grande o suficiente para a convergência uniforme. Já para $\\hat F_n(t) \\implies F_n(t)$ é necessário converter as distribuições em distribuições limites $L$ que medem o comportamento assintótico (o que acontece com os objetos estatísticos quando aumentamos o tamanho). Assim, quando $\\hat F_n(t)$ e $\\implies F_n(t)$ tem seu número de elementos grandes o suficiente, teremos $\\hat L \\implies L$. Esses limites frequentemente vem de distribuições normais, ou seja, se o parâmetro de ambas as distribuições convergirem, então os limites também irão ter a convergência uniforme. Isso é a mesma coisa de dizer que os limites convergem quando o número de elementos é grande o suficiente. Por fim, se $\\hat L \\implies L$ converge, teremos a mesma situação para $\\hat F_n(t) \\implies F_n(t)$."
   ]
  },
  {
   "cell_type": "markdown",
   "id": "6841a169",
   "metadata": {},
   "source": [
    "### Teste de hipótese para os meses de verão"
   ]
  },
  {
   "cell_type": "markdown",
   "id": "1fdb07de",
   "metadata": {},
   "source": [
    "O primeiro teste será das médias de crescimento em log das duas regiões nos meses de verão."
   ]
  },
  {
   "cell_type": "markdown",
   "id": "fe67c60e",
   "metadata": {},
   "source": [
    "**Hipótese:**\n",
    "$$\n",
    "H_0: \\mu_N = \\mu_S \\\\\n",
    "H_\\alpha: \\mu_N > \\mu_S\\\\\n",
    "$$\n",
    "Em que $\\mu_N$ é a média populacional da região Nordeste e $\\mu_S$ é a da região Sul."
   ]
  },
  {
   "cell_type": "markdown",
   "id": "c3b1e250",
   "metadata": {},
   "source": [
    "**Coleta de dados:**"
   ]
  },
  {
   "cell_type": "code",
   "execution_count": 127,
   "id": "c0de04c3",
   "metadata": {},
   "outputs": [],
   "source": [
    "media_nord = np.mean(log_nord_verao)\n",
    "media_nord"
   ]
  },
  {
   "cell_type": "code",
   "execution_count": 128,
   "id": "5c9b03ae",
   "metadata": {},
   "outputs": [],
   "source": [
    "desvio_nord = np.std(log_nord_verao)\n",
    "desvio_nord"
   ]
  },
  {
   "cell_type": "code",
   "execution_count": 129,
   "id": "4e201e4c",
   "metadata": {
    "scrolled": true
   },
   "outputs": [],
   "source": [
    "media_sul = np.mean(log_sul_verao)\n",
    "media_sul"
   ]
  },
  {
   "cell_type": "code",
   "execution_count": 130,
   "id": "f2ebe2d2",
   "metadata": {},
   "outputs": [],
   "source": [
    "desvio_sul = np.std(log_sul_verao)\n",
    "desvio_sul"
   ]
  },
  {
   "cell_type": "markdown",
   "id": "2b522c25",
   "metadata": {},
   "source": [
    "**Normalidade dos dados:**"
   ]
  },
  {
   "cell_type": "markdown",
   "id": "04623847",
   "metadata": {},
   "source": [
    "O teste que será utilizado é o de Shapiro Wilk. Para $p-value$ < $\\alpha$ a hipótese nula é rejeitada e, portanto, a amostra não segue uma distribuição normal."
   ]
  },
  {
   "cell_type": "code",
   "execution_count": 131,
   "id": "8595bb1a",
   "metadata": {
    "scrolled": true
   },
   "outputs": [],
   "source": [
    "#Considerando que o nível de significância é de 5%\n",
    "alpha = 0.05\n",
    "estatistica, p_valor = shapiro(log_nord_verao)\n",
    "p_valor"
   ]
  },
  {
   "cell_type": "code",
   "execution_count": 132,
   "id": "b0890cfe",
   "metadata": {},
   "outputs": [],
   "source": [
    "estatistica, p_valor = shapiro(log_sul_verao)\n",
    "p_valor"
   ]
  },
  {
   "cell_type": "code",
   "execution_count": 133,
   "id": "ce37786c",
   "metadata": {},
   "outputs": [],
   "source": [
    "plt.hist(log_nord_verao, bins=50, edgecolor='black')"
   ]
  },
  {
   "cell_type": "code",
   "execution_count": 134,
   "id": "9ee4713a",
   "metadata": {},
   "outputs": [],
   "source": [
    "plt.hist(log_sul_verao, bins=50, edgecolor='black')"
   ]
  },
  {
   "cell_type": "markdown",
   "id": "a97ac112",
   "metadata": {},
   "source": [
    "De acordo com o teste de Shapiro-Wilk e considerando o nível de significância de 0.05, a distribuição de crescimentos em log na região Nordeste não segue uma distribuição normal. Desta forma será utilizado o método bootstrap que não precede de nenhuma distribuição nos dados."
   ]
  },
  {
   "cell_type": "markdown",
   "id": "def9b407",
   "metadata": {},
   "source": [
    "**Critério de decisão:**"
   ]
  },
  {
   "cell_type": "markdown",
   "id": "67c4a31b",
   "metadata": {},
   "source": [
    "Se $\\overline x_N$ for significamente maior que $\\overline x_S$, $H_0$ será rejeitada. Ou seja, se a probabilidade de observar valores maiores que $\\overline x_N - \\overline x_S$ é suficientemente baixa (0.05 ou menos), $H_0$ vai ser rejeitada."
   ]
  },
  {
   "cell_type": "markdown",
   "id": "63e1d06c",
   "metadata": {},
   "source": [
    "**Teste bootstrap:**"
   ]
  },
  {
   "cell_type": "code",
   "execution_count": 135,
   "id": "0c43a12d",
   "metadata": {
    "scrolled": false
   },
   "outputs": [],
   "source": [
    "diferenca_observada = media_nord - media_sul\n",
    "\n",
    "def bootstrap(amostra_1, amostra_2, n_repeticoes):\n",
    "    count = 0\n",
    "    n_1 = len(amostra_1)\n",
    "    n_2 = len(amostra_2)\n",
    "    amostra_concat = np.concatenate((amostra_1, amostra_2))\n",
    "    diferencas_bootstrap = []\n",
    "\n",
    "    for _ in range(n_repeticoes):\n",
    "        amostra_1_bootstrap = np.random.choice(amostra_concat, size=n_1, replace=True)\n",
    "        amostra_2_bootstrap = np.random.choice(amostra_concat, size=n_2, replace=True)\n",
    "        diferenca_bootstrap = np.mean(amostra_1_bootstrap) - np.mean(amostra_2_bootstrap)\n",
    "        diferencas_bootstrap.append(diferenca_bootstrap)\n",
    "        #Valores mais extremos que a diferença observada\n",
    "        if (diferenca_bootstrap >= diferenca_observada):\n",
    "            count += 1\n",
    "\n",
    "    return np.array(diferencas_bootstrap), count\n",
    "\n",
    "\n",
    "n_repeticoes = 1000\n",
    "diferencas_bootstrap, count = bootstrap(log_nord_verao, log_sul_verao, n_repeticoes)\n",
    "\n",
    "p_valor = count / n_repeticoes\n",
    "\n",
    "print(f\"Diferença observada: {diferenca_observada}\")\n",
    "print(f\"P-valor (unilateral): {p_valor}\")\n",
    "\n",
    "if p_valor < alpha:\n",
    "    print(\"Rejeite H0.\")\n",
    "else:\n",
    "    print(\"Não rejeite H0.\")"
   ]
  },
  {
   "cell_type": "markdown",
   "id": "d5cff09f",
   "metadata": {},
   "source": [
    "**Interpretação:**"
   ]
  },
  {
   "cell_type": "markdown",
   "id": "ec7b82c0",
   "metadata": {},
   "source": [
    "Já que o $p-valor > \\alpha$ é possível concluir que a média de crescimento geometrico no Nordeste não é significamente maior que a da região Sul, pois se a média aritmética dos dados transformados em log é maior em uma amostra, então a média geometrica também é maior."
   ]
  },
  {
   "cell_type": "markdown",
   "id": "559b6d51",
   "metadata": {},
   "source": [
    "**Invertendo a ordem da hipótese alternativa, ou seja:**"
   ]
  },
  {
   "cell_type": "markdown",
   "id": "ef396c1f",
   "metadata": {},
   "source": [
    "$$\n",
    "H_0: \\mu_S = \\mu_N \\\\\n",
    "H_\\alpha: \\mu_S > \\mu_N\\\\\n",
    "$$"
   ]
  },
  {
   "cell_type": "code",
   "execution_count": 136,
   "id": "8c4d791d",
   "metadata": {},
   "outputs": [],
   "source": [
    "n_repeticoes = 1000\n",
    "diferenca_observada = media_sul - media_nord\n",
    "diferencas_bootstrap, count = bootstrap(log_sul_verao, log_nord_verao, n_repeticoes)\n",
    "\n",
    "p_valor = count / n_repeticoes\n",
    "\n",
    "print(f\"Diferença observada: {diferenca_observada}\")\n",
    "print(f\"P-valor (unilateral): {p_valor}\")\n",
    "\n",
    "if p_valor < alpha:\n",
    "    print(\"Rejeite H0.\")\n",
    "else:\n",
    "    print(\"Não rejeite H0.\")"
   ]
  },
  {
   "cell_type": "markdown",
   "id": "a3db4213",
   "metadata": {},
   "source": [
    "Desta forma, a média de crescimento geométrico da região Sul nos meses de verão é significamente maior que a da região Nordeste."
   ]
  },
  {
   "cell_type": "markdown",
   "id": "1466a552",
   "metadata": {},
   "source": [
    "### Teste de hipótese para os meses de inverno"
   ]
  },
  {
   "cell_type": "markdown",
   "id": "b6efa3e3",
   "metadata": {},
   "source": [
    "O segundo teste será das médias de crescimento em log das duas regiões nos meses de inverno."
   ]
  },
  {
   "cell_type": "markdown",
   "id": "3a491602",
   "metadata": {},
   "source": [
    "**Hipótese:**\n",
    "$$\n",
    "H_0: \\mu_S = \\mu_N \\\\\n",
    "H_\\alpha: \\mu_S > \\mu_N\\\\\n",
    "$$"
   ]
  },
  {
   "cell_type": "markdown",
   "id": "8262136c",
   "metadata": {},
   "source": [
    "**Colete de dados:**"
   ]
  },
  {
   "cell_type": "code",
   "execution_count": 137,
   "id": "88f82ba0",
   "metadata": {},
   "outputs": [],
   "source": [
    "media_nord = np.mean(log_nord_inverno)\n",
    "media_nord"
   ]
  },
  {
   "cell_type": "code",
   "execution_count": 138,
   "id": "7e0411a5",
   "metadata": {},
   "outputs": [],
   "source": [
    "desvio_nord = np.std(log_nord_inverno)\n",
    "desvio_nord"
   ]
  },
  {
   "cell_type": "code",
   "execution_count": 139,
   "id": "a1671fca",
   "metadata": {},
   "outputs": [],
   "source": [
    "media_sul = np.mean(log_sul_inverno)\n",
    "media_sul"
   ]
  },
  {
   "cell_type": "code",
   "execution_count": 140,
   "id": "0277cb7d",
   "metadata": {},
   "outputs": [],
   "source": [
    "desvio_sul = np.std(log_sul_inverno)\n",
    "desvio_sul"
   ]
  },
  {
   "cell_type": "markdown",
   "id": "f99c065e",
   "metadata": {},
   "source": [
    "**Normalidade dos dados:**"
   ]
  },
  {
   "cell_type": "code",
   "execution_count": 141,
   "id": "90fed3fc",
   "metadata": {},
   "outputs": [],
   "source": [
    "estatistica, p_valor = shapiro(log_nord_inverno)\n",
    "p_valor"
   ]
  },
  {
   "cell_type": "code",
   "execution_count": 142,
   "id": "db379cfa",
   "metadata": {},
   "outputs": [],
   "source": [
    "estatistica, p_valor = shapiro(log_sul_inverno)\n",
    "p_valor"
   ]
  },
  {
   "cell_type": "code",
   "execution_count": 143,
   "id": "ff111819",
   "metadata": {},
   "outputs": [],
   "source": [
    "plt.hist(log_nord_inverno, bins=50, edgecolor='black')"
   ]
  },
  {
   "cell_type": "code",
   "execution_count": 144,
   "id": "71950acc",
   "metadata": {},
   "outputs": [],
   "source": [
    "plt.hist(log_sul_inverno, bins=50, edgecolor='black')"
   ]
  },
  {
   "cell_type": "markdown",
   "id": "ab583bb8",
   "metadata": {},
   "source": [
    "A distribuição de crescimentos em log na região Nordeste não segue uma distribuição normal. Portanto,  o método bootstrap neste caso também será utilizado como teste."
   ]
  },
  {
   "cell_type": "markdown",
   "id": "4cde387d",
   "metadata": {},
   "source": [
    "**Critério de decisão:**"
   ]
  },
  {
   "cell_type": "markdown",
   "id": "497964ee",
   "metadata": {},
   "source": [
    "O mesmo do teste de hipótese anterior."
   ]
  },
  {
   "cell_type": "markdown",
   "id": "f3312747",
   "metadata": {},
   "source": [
    "**Teste de hipótese:**"
   ]
  },
  {
   "cell_type": "code",
   "execution_count": 145,
   "id": "e5873389",
   "metadata": {},
   "outputs": [],
   "source": [
    "n_repeticoes = 1000\n",
    "diferenca_observada = media_sul - media_nord\n",
    "diferencas_bootstrap, count = bootstrap(log_sul_inverno, log_nord_inverno, n_repeticoes)\n",
    "\n",
    "p_valor = count / n_repeticoes\n",
    "\n",
    "print(f\"Diferença observada: {diferenca_observada}\")\n",
    "print(f\"P-valor (unilateral): {p_valor}\")\n",
    "\n",
    "if p_valor < alpha:\n",
    "    print(\"Rejeite H0.\")\n",
    "else:\n",
    "    print(\"Não rejeite H0.\")"
   ]
  },
  {
   "cell_type": "markdown",
   "id": "1e12e3e2",
   "metadata": {},
   "source": [
    "**Interpretação:** "
   ]
  },
  {
   "cell_type": "markdown",
   "id": "5f233d5d",
   "metadata": {},
   "source": [
    "Já que o $p-valor > \\alpha$ é possível concluir que a média de crescimento geometrico no Sul não é significamente maior que a da região Nordeste."
   ]
  },
  {
   "cell_type": "markdown",
   "id": "35e49f7c",
   "metadata": {},
   "source": [
    "**Para a Hipótese considerando a mesma época:**\n",
    "$$\n",
    "H_0: \\mu_N = \\mu_S \\\\\n",
    "H_\\alpha: \\mu_N > \\mu_S\\\\\n",
    "$$"
   ]
  },
  {
   "cell_type": "markdown",
   "id": "d4838c8f",
   "metadata": {},
   "source": [
    "**Tem-se que:**"
   ]
  },
  {
   "cell_type": "code",
   "execution_count": 146,
   "id": "501923e9",
   "metadata": {},
   "outputs": [],
   "source": [
    "n_repeticoes = 1000\n",
    "diferenca_observada = media_nord - media_sul\n",
    "diferencas_bootstrap, count = bootstrap(log_nord_inverno, log_sul_inverno, n_repeticoes)\n",
    "\n",
    "p_valor = count / n_repeticoes\n",
    "\n",
    "print(f\"Diferença observada: {diferenca_observada}\")\n",
    "print(f\"P-valor (unilateral): {p_valor}\")\n",
    "\n",
    "if p_valor < alpha:\n",
    "    print(\"Rejeite H0.\")\n",
    "else:\n",
    "    print(\"Não rejeite H0.\")"
   ]
  },
  {
   "cell_type": "markdown",
   "id": "19df2292",
   "metadata": {},
   "source": [
    "Ou seja, a média de crescimento geométrico da região Nordeste nos meses de inverno é significamente maior que a da região Sul."
   ]
  },
  {
   "cell_type": "markdown",
   "id": "4021f169",
   "metadata": {},
   "source": [
    "## Conclusão"
   ]
  },
  {
   "cell_type": "markdown",
   "id": "cde15895",
   "metadata": {},
   "source": [
    "A partir desse  podemos concluir que a relação entre as estações e os crescimentos de turistas nas regiões é considerável. Nos meses de verão, o fluxo de turismo em ambas as regiões é alto, porém o crescimento nesses meses na região Sul é crescente, enquanto na região Nordeste é decrescente. Ademais, a diferença entre as médias de crescimento é significativamente maior para o Sul, como foi possível observar nos testes de hipótese. Nos meses de inverno, o fenômeno inverso acontece, existe um crescimento crescente na região Nordeste e decrescente no Sul, já a diferença das médias é significativamente maior para o Nordeste. Alguns fatores destacados durante a análise exploratória que podem explicar esse fenômeno: localidade de onde a maioria dos turistas vinheram, qual a época do ano em que ocorre as férias mais prolongadas para esses turistas e mudança nos perfis desses visitantes pós pandemia. A partir desses fatores, pesquisas mais aprofundadas, utilizando estatística inferêncial e outras bases de dados disponibilizadas pelo Ministério do Turismo, poderiam ser feitas para válidar ou inválidar essas teses e, desta forma, melhorar a compreensão acerca do fluxo de turistas nessas regiões durante os meses de inverno e verão."
   ]
  },
  {
   "cell_type": "markdown",
   "id": "a80b44d6",
   "metadata": {},
   "source": [
    "## Referências "
   ]
  },
  {
   "cell_type": "markdown",
   "id": "246d2285",
   "metadata": {},
   "source": [
    "Saputra, P. M. A. (2023). COVID-19 and tourism industry: An investigation of spatial dependence in Europe. Cogent Social Sciences, 9(2).\n",
    "\n",
    "Brida, J. G., Cortes-Jimenez, I., & Pulina, M. (2014). Has the tourism-led growth hypothesis been validated? A literature review.\n",
    "\n",
    "Balaguer, J., & Cantavella-Jordá, M. (2002). Tourism as a long-run economic growth factor: The Spanish case. Applied Economics, 877–884.\n",
    "\n",
    "ROGERSON, Christian M.; ROGERSON, Jayne M. COVID-19 and changing tourism demand: Research review and policy implications for South Africa. **African Journal of Hospitality, Tourism and Leisure**, v. 10, n. 1, p. 1-21, 2021.\n",
    "\n",
    "Tsun, A. \"Probability & statistics with applications to computing.\" (2020).\n",
    "\n",
    "https://www.datacamp.com/pt/tutorial/geometric-mean\n",
    "\n",
    "Horowitz, Joel L. \"The bootstrap.\" Handbook of econometrics. Vol. 5. Elsevier, 2001. 3159-3228."
   ]
  }
 ],
 "metadata": {
  "kernelspec": {
   "display_name": "Python 3 (ipykernel)",
   "language": "python",
   "name": "python3"
  },
  "language_info": {
   "codemirror_mode": {
    "name": "ipython",
    "version": 3
   },
   "file_extension": ".py",
   "mimetype": "text/x-python",
   "name": "python",
   "nbconvert_exporter": "python",
   "pygments_lexer": "ipython3",
   "version": "3.11.7"
  }
 },
 "nbformat": 4,
 "nbformat_minor": 5
}
